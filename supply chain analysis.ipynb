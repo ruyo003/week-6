{
 "cells": [
  {
   "cell_type": "code",
   "execution_count": 161,
   "id": "c28ffff7-8d48-4896-822c-589eaf754f69",
   "metadata": {},
   "outputs": [],
   "source": [
    "# importing necesssary libraries for anlysis\n",
    "import pandas as pd\n",
    "import dask.dataframe as dd\n",
    "import time"
   ]
  },
  {
   "cell_type": "markdown",
   "id": "31008a78-ada8-4c1d-876c-714aab05de3b",
   "metadata": {},
   "source": [
    "***File loading/reading using pandas and dask***"
   ]
  },
  {
   "cell_type": "code",
   "execution_count": 162,
   "id": "36119ae8-5e37-4eaa-9fe5-f1653d086b67",
   "metadata": {},
   "outputs": [],
   "source": [
    "# loading the dataset using pandas\n",
    "\n",
    "beginning_time = time.time()\n",
    "supply_df = pd.read_csv('US_Regional_Sales.csv')\n",
    "pandas_time = time.time() - beginning_time"
   ]
  },
  {
   "cell_type": "code",
   "execution_count": 163,
   "id": "c2615461-da0e-4bfe-8918-c1db34318363",
   "metadata": {},
   "outputs": [],
   "source": [
    "# loading the dataset using dask\n",
    "\n",
    "beginning_time = time.time()\n",
    "supply_dfdd = dd.read_csv('US_Regional_Sales.csv')\n",
    "supply_dfdd.head()\n",
    "dask_time = time.time() - beginning_time"
   ]
  },
  {
   "cell_type": "code",
   "execution_count": 164,
   "id": "b1f6da15-52bc-4c62-a801-2e1eb4c47855",
   "metadata": {},
   "outputs": [
    {
     "name": "stdout",
     "output_type": "stream",
     "text": [
      "Pandas took 0.06457114219665527 seconds\n",
      "dask took 0.0691220760345459 seconds\n"
     ]
    }
   ],
   "source": [
    "print(f'Pandas took {pandas_time} seconds')\n",
    "print(f'dask took {dask_time} seconds')"
   ]
  },
  {
   "cell_type": "markdown",
   "id": "bd43ffb0-24f1-49b9-b268-d24473c7463b",
   "metadata": {},
   "source": [
    "***Data cleaning and validation***"
   ]
  },
  {
   "cell_type": "code",
   "execution_count": 165,
   "id": "a82614c0-9810-4dab-a720-92a8efd8d801",
   "metadata": {},
   "outputs": [],
   "source": [
    "def validate_columns(df):\n",
    "    df.columns = df.columns.str.replace('_', '').str.strip()\n",
    "    return df"
   ]
  },
  {
   "cell_type": "code",
   "execution_count": 181,
   "id": "1315ff97-c7b7-4a79-bd5b-a17a039e24f0",
   "metadata": {},
   "outputs": [],
   "source": [
    "def removing_space(df):\n",
    "    df.columns = df.columns.str.replace(' ', '')\n",
    "    return df"
   ]
  },
  {
   "cell_type": "code",
   "execution_count": 182,
   "id": "e14168f2-9d6e-4c28-b8f5-1c0e40b6051f",
   "metadata": {},
   "outputs": [],
   "source": [
    "supply_df = validate_columns(supply_df)\n",
    "supply_df = removing_space(supply_df)"
   ]
  },
  {
   "cell_type": "code",
   "execution_count": 171,
   "id": "2742bfe2-3618-4a65-bee0-17e33f4cc602",
   "metadata": {},
   "outputs": [],
   "source": [
    "# converting object data type to float and replacing $ with ''\n",
    "\n",
    "for col in ['UnitCost', 'UnitPrice']:\n",
    "    supply_df[col] = supply_df[col].str.replace('[$,]', '', regex=True).astype(float)\n"
   ]
  },
  {
   "cell_type": "code",
   "execution_count": 172,
   "id": "51c59f96-1fcc-41b5-86ea-78fdb7f81494",
   "metadata": {},
   "outputs": [],
   "source": [
    "# Convert OrderDate to datetime\n",
    "for colm in ['ProcuredDate',\t'OrderDate', 'ShipDate', 'DeliveryDate']:\n",
    "    \n",
    "    supply_df[colm] = pd.to_datetime(supply_df[colm], format='mixed')\n"
   ]
  },
  {
   "cell_type": "code",
   "execution_count": 173,
   "id": "274762e8-1090-4f79-a609-b77ef745c001",
   "metadata": {},
   "outputs": [
    {
     "name": "stdout",
     "output_type": "stream",
     "text": [
      "There are 0 duplicates in the columns\n"
     ]
    }
   ],
   "source": [
    "# checking for duplicates\n",
    "\n",
    "duplicates = supply_df.duplicated(keep= 'last').sum()\n",
    "print(f'There are {duplicates} duplicates in the columns')"
   ]
  },
  {
   "cell_type": "markdown",
   "id": "6e8cd9a7-3268-4647-81b1-0127831be318",
   "metadata": {},
   "source": [
    "***YAML file creation***"
   ]
  },
  {
   "cell_type": "code",
   "execution_count": 174,
   "id": "617ddaf6-aed6-47d1-b4e1-55500ff20057",
   "metadata": {},
   "outputs": [
    {
     "data": {
      "text/plain": [
       "Index(['OrderNumber', 'SalesChannel', 'WarehouseCode', 'ProcuredDate',\n",
       "       'OrderDate', 'ShipDate', 'DeliveryDate', 'CurrencyCode', 'SalesTeamID',\n",
       "       'CustomerID', 'StoreID', 'ProductID', 'OrderQuantity',\n",
       "       'DiscountApplied', 'UnitCost', 'UnitPrice'],\n",
       "      dtype='object')"
      ]
     },
     "execution_count": 174,
     "metadata": {},
     "output_type": "execute_result"
    }
   ],
   "source": [
    "supply_df.columns"
   ]
  },
  {
   "cell_type": "code",
   "execution_count": 178,
   "id": "69f573b0-a3ee-4f7d-b81f-c795c4bd9d84",
   "metadata": {},
   "outputs": [
    {
     "name": "stdout",
     "output_type": "stream",
     "text": [
      "['OrderNumber', 'Sales', 'Channel', 'WarehouseCode', 'ProcuredDate', 'OrderDate', 'ShipDate', 'DeliveryDate', 'CurrencyCode', 'SalesTeamID', 'CustomerID', 'StoreID', 'ProductID', 'Order', 'Quantity', 'Discount', 'Applied', 'Unit', 'Cost', 'Unit', 'Price']\n",
      ".....\n",
      "Index(['OrderNumber', 'SalesChannel', 'WarehouseCode', 'ProcuredDate',\n",
      "       'OrderDate', 'ShipDate', 'DeliveryDate', 'CurrencyCode', 'SalesTeamID',\n",
      "       'CustomerID', 'StoreID', 'ProductID', 'OrderQuantity',\n",
      "       'DiscountApplied', 'UnitCost', 'UnitPrice'],\n",
      "      dtype='object')\n"
     ]
    }
   ],
   "source": [
    "expected_column = ''.join(expected_columns).split(' ')\n",
    "\n",
    "\n",
    "final = [col.strip()for col in expected_column]\n",
    "\n",
    "print(final)\n",
    "print('.....')\n",
    "print(supply_df.columns)"
   ]
  },
  {
   "cell_type": "code",
   "execution_count": 185,
   "id": "48283a94-c4d8-4a8a-a1ec-b5d6f220cbf8",
   "metadata": {},
   "outputs": [
    {
     "ename": "ValueError",
     "evalue": "Column names do not match the expected schema",
     "output_type": "error",
     "traceback": [
      "\u001b[0;31m---------------------------------------------------------------------------\u001b[0m",
      "\u001b[0;31mValueError\u001b[0m                                Traceback (most recent call last)",
      "Cell \u001b[0;32mIn[185], line 11\u001b[0m\n\u001b[1;32m      9\u001b[0m expected_columns \u001b[38;5;241m=\u001b[39m (schema[\u001b[38;5;124m'\u001b[39m\u001b[38;5;124myalm_file\u001b[39m\u001b[38;5;124m'\u001b[39m][\u001b[38;5;124m'\u001b[39m\u001b[38;5;124mcolumns\u001b[39m\u001b[38;5;124m'\u001b[39m])\n\u001b[1;32m     10\u001b[0m \u001b[38;5;28;01mif\u001b[39;00m \u001b[38;5;28mlist\u001b[39m(supply_df\u001b[38;5;241m.\u001b[39mcolumns) \u001b[38;5;241m!=\u001b[39m (final):\n\u001b[0;32m---> 11\u001b[0m     \u001b[38;5;28;01mraise\u001b[39;00m \u001b[38;5;167;01mValueError\u001b[39;00m(\u001b[38;5;124m'\u001b[39m\u001b[38;5;124mColumn names do not match the expected schema\u001b[39m\u001b[38;5;124m'\u001b[39m)\n\u001b[1;32m     12\u001b[0m \u001b[38;5;28;01mif\u001b[39;00m \u001b[38;5;28mlen\u001b[39m(supply_df\u001b[38;5;241m.\u001b[39mcolumns) \u001b[38;5;241m!=\u001b[39m \u001b[38;5;28mlen\u001b[39m(final):\n\u001b[1;32m     13\u001b[0m     \u001b[38;5;28;01mraise\u001b[39;00m \u001b[38;5;167;01mValueError\u001b[39;00m(\u001b[38;5;124m\"\u001b[39m\u001b[38;5;124mNumber of columns does not match the expected schema.\u001b[39m\u001b[38;5;124m\"\u001b[39m)\n",
      "\u001b[0;31mValueError\u001b[0m: Column names do not match the expected schema"
     ]
    }
   ],
   "source": [
    "# Validating  columns\n",
    "\n",
    "import yaml\n",
    "\n",
    "with open('yaml', 'r') as file:\n",
    "    schema = yaml.safe_load(file)\n",
    "\n",
    "\n",
    "expected_columns = (schema['yalm_file']['columns'])\n",
    "if list(supply_df.columns) != (final):\n",
    "    raise ValueError('Column names do not match the expected schema')\n",
    "if len(supply_df.columns) != len(final):\n",
    "    raise ValueError(\"Number of columns does not match the expected schema.\")\n",
    "\n",
    "else:\n",
    "    print('done')"
   ]
  },
  {
   "cell_type": "code",
   "execution_count": 184,
   "id": "65b195bc-1c34-41f7-a969-27fac762edb3",
   "metadata": {},
   "outputs": [
    {
     "name": "stdout",
     "output_type": "stream",
     "text": [
      "Expected Columns: OrderNumber SalesChannel WarehouseCode ProcuredDate OrderDate ShipDate DeliveryDate CurrencyCode SalesTeamID CustomerID StoreID ProductID OrderQuantity DiscountApplied UnitCost UnitPrice\n",
      "........\n",
      "DataFrame Columns: ['OrderNumber', 'SalesChannel', 'WarehouseCode', 'ProcuredDate', 'OrderDate', 'ShipDate', 'DeliveryDate', 'CurrencyCode', 'SalesTeamID', 'CustomerID', 'StoreID', 'ProductID', 'OrderQuantity', 'DiscountApplied', 'UnitCost', 'UnitPrice']\n"
     ]
    }
   ],
   "source": [
    "print(\"Expected Columns:\", expected_columns)\n",
    "print('........')\n",
    "print(\"DataFrame Columns:\", list(supply_df.columns))"
   ]
  },
  {
   "cell_type": "markdown",
   "id": "130ff67d-b826-4aea-a1ee-59f8294b64d4",
   "metadata": {},
   "source": [
    "***file writting***"
   ]
  },
  {
   "cell_type": "code",
   "execution_count": 188,
   "id": "b87133dd-da52-4eb0-a10b-145fe18c451f",
   "metadata": {},
   "outputs": [],
   "source": [
    "final_file = 'cleaned_data.txt.gz'\n",
    "supply_df.to_csv(final_file, sep='|', index=False, compression='gzip')"
   ]
  },
  {
   "cell_type": "markdown",
   "id": "0c836fdb-5a55-453b-8cad-4acd45d071e5",
   "metadata": {},
   "source": [
    "***summary***"
   ]
  },
  {
   "cell_type": "code",
   "execution_count": 189,
   "id": "ac09747e-23db-4759-a57d-b145077fe194",
   "metadata": {},
   "outputs": [
    {
     "name": "stdout",
     "output_type": "stream",
     "text": [
      "The total number of rows: 7991\n",
      "The total number of columns: 16\n"
     ]
    }
   ],
   "source": [
    "number_of_rows = len(supply_df)\n",
    "number_of_columns = len(supply_df.columns)\n",
    "\n",
    "print(f\"The total number of rows: {number_of_rows}\")\n",
    "print(f\"The total number of columns: {number_of_columns}\")"
   ]
  },
  {
   "cell_type": "code",
   "execution_count": null,
   "id": "2e2e3421-15a3-48c6-be1e-9853fb9ec6fb",
   "metadata": {},
   "outputs": [],
   "source": []
  }
 ],
 "metadata": {
  "kernelspec": {
   "display_name": "Python 3 (ipykernel)",
   "language": "python",
   "name": "python3"
  },
  "language_info": {
   "codemirror_mode": {
    "name": "ipython",
    "version": 3
   },
   "file_extension": ".py",
   "mimetype": "text/x-python",
   "name": "python",
   "nbconvert_exporter": "python",
   "pygments_lexer": "ipython3",
   "version": "3.12.0"
  }
 },
 "nbformat": 4,
 "nbformat_minor": 5
}
